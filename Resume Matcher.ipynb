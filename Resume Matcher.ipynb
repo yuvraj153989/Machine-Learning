{
 "cells": [
  {
   "cell_type": "code",
   "execution_count": 1,
   "id": "ff7bbfac",
   "metadata": {},
   "outputs": [
    {
     "name": "stdout",
     "output_type": "stream",
     "text": [
      "Defaulting to user installation because normal site-packages is not writeable\n",
      "Collecting docx2txt\n",
      "  Downloading docx2txt-0.8.tar.gz (2.8 kB)\n",
      "  Preparing metadata (setup.py): started\n",
      "  Preparing metadata (setup.py): finished with status 'done'\n",
      "Building wheels for collected packages: docx2txt\n",
      "  Building wheel for docx2txt (setup.py): started\n",
      "  Building wheel for docx2txt (setup.py): finished with status 'done'\n",
      "  Created wheel for docx2txt: filename=docx2txt-0.8-py3-none-any.whl size=3966 sha256=3f67d217f7fab9f3ece3f3d30f0e6eac06f88135cb70aaa6b4ba91107492e9e5\n",
      "  Stored in directory: c:\\users\\kiit\\appdata\\local\\pip\\cache\\wheels\\40\\75\\01\\e6c444034338bde9c7947d3467807f889123465c2371e77418\n",
      "Successfully built docx2txt\n",
      "Installing collected packages: docx2txt\n",
      "Successfully installed docx2txt-0.8\n",
      "Note: you may need to restart the kernel to use updated packages.\n"
     ]
    }
   ],
   "source": [
    "pip install docx2txt"
   ]
  },
  {
   "cell_type": "code",
   "execution_count": 2,
   "id": "f2cac1d9",
   "metadata": {},
   "outputs": [],
   "source": [
    "import docx2txt    #converts doc file to text file"
   ]
  },
  {
   "cell_type": "code",
   "execution_count": 10,
   "id": "4cb8cf43",
   "metadata": {},
   "outputs": [],
   "source": [
    "resume = docx2txt.process(\"C:\\\\Users\\\\KIIT\\\\Downloads\\\\res.docx\")\n",
    "sample = docx2txt.process(\"C:\\\\Users\\\\KIIT\\\\Desktop\\\\sample.docx\")"
   ]
  },
  {
   "cell_type": "code",
   "execution_count": 11,
   "id": "e92561e9",
   "metadata": {},
   "outputs": [
    {
     "name": "stdout",
     "output_type": "stream",
     "text": [
      "Yuvraj Singh\n",
      "\n",
      "https://github.com/yuvraj153989 \n",
      "\n",
      "+91 8591476799\n",
      "\n",
      "singhraj153989@gmil.com\n",
      "\n",
      "LP-3, Prasanti Vihar Colony, Near KSAC,\n",
      "\n",
      "Patia, Bhubaneswar-751024.\n",
      "\n",
      "\n",
      "\n",
      "I excel in interpersonal skills, collaborating seamlessly with diverse personalities. Proactive problem-solving and effective communication underscore my leadership and organizational proficiency. I seek the positive aspects even in competitive situations with a mindset of opportunities in the face of challenges.\n",
      "\n",
      "EDUCATION\n",
      "\n",
      "Bachelor of Technology:  KIIT Bhubaneswar, India.                                                                                                      (2020-Present)\n",
      "\n",
      "Major: Computer Science, 7.82/10.0.\n",
      "\n",
      "Related Coursework: Web Development, Database, Networkings, Software Engineering, Data Analytics, Machine Learning, Artificial Intelligence, Cloud Computing, Oral and Written Communications.\n",
      "\n",
      "Primary, Secondary, Senior Secondary: Kendriya Vidyalaya Mankhurd, Mumbai, India.\n",
      "\n",
      "X (Secondary), CBSE Board, 79.6/100.00                                                                                                                                 (2008-2018)\n",
      "\n",
      "XII (Senior Secondary), Science(PCM), CBSE Board, 87.4/100.00                                                                                           (2018-2020)\n",
      "\n",
      "SKILLS\n",
      "\n",
      "Language Proficiency: C/C++/Java\n",
      "\n",
      "Database: Data Structures, MySQL.\n",
      "\n",
      "Web Development: HTML/JAVA/CSS\n",
      "\n",
      "Data Analysis and Machine Learning: Python, Pandas,Data Visualisations, Microsoft Excel Basics, Maths, NLP, Deep Learning.\n",
      "\n",
      "\n",
      "\n",
      "EXPERIENCE\n",
      "\n",
      "HighRadius Corporation, Bhubaneswar                                                                                                    (May 2023-Present)                       \n",
      "\n",
      "Machine Learning and Data Science Intern\n",
      "\n",
      "Contributed to refining debt recovery processes through the application of AI-powered algorithms.\n",
      "\n",
      "Assisted in implementing automated strategies like NLP, text extraction, advanced analytics to streamline collections.\n",
      "\n",
      "Demonstrated strong collaboration within the team, strategically refining workflows and significantly amplifying the overall efficiency of collection endeavors.\n",
      "\n",
      "\n",
      "\n",
      "PROJECTS                                                                                                              \n",
      "\n",
      "Machine Learning with Python                                                                                                                  (Winters 2022-Present)                                                                                                                                                                                                                                                        Developed ML Models using Python, Streaamlit, Flask, achieve accuracy over 85% on Projects like IPL Winner                   Prediction, Sales Forecasting, Payment Date Prediction\n",
      "\n",
      "ML Projects\n",
      "\n",
      "\n",
      "\n",
      "ATM Machine Simulator with Java                                                                                                                             (Summer 2022)\n",
      "\n",
      "Created ATM Machine Simulator using Java JFrame, MySQL and implemented features like User Registration, Login, Deposit, Withdrawal, Balance Enquiry etc.   \n",
      "\n",
      "Java Projects\n",
      "\n",
      "\n",
      "\n",
      "CERTIFICATIONS \n",
      "\n",
      "2021/2022, C/C++/Java/Data Structures Programming Basic to Advance Certification Course.\n",
      "\n",
      "2022, MySQL Basic to Intermediate Certification Course.                                                                                                         \n",
      "\n",
      "Certificates\n"
     ]
    }
   ],
   "source": [
    "print(resume)"
   ]
  },
  {
   "cell_type": "code",
   "execution_count": 12,
   "id": "b9f083f3",
   "metadata": {},
   "outputs": [
    {
     "name": "stdout",
     "output_type": "stream",
     "text": [
      "Job Title: Marketing Specialist\n",
      "\n",
      "Company Name: ABC Marketing Solutions\n",
      "\n",
      "Duration: January 2020 - Present\n",
      "\n",
      "Location: City, State\n",
      "\n",
      "Job Description: As a Marketing Specialist at ABC Marketing Solutions, I am responsible for driving strategic marketing initiatives and supporting the overall marketing efforts to enhance brand visibility, customer engagement, and revenue growth. I collaborate closely with cross-functional teams to develop and execute targeted marketing campaigns while analyzing market trends and consumer behavior to inform decision-making.\n",
      "\n",
      "Key Responsibilities:\n",
      "\n",
      "Developed and executed comprehensive marketing campaigns that increased brand awareness and drove a 20% increase in website traffic within the first quarter.\n",
      "\n",
      "Collaborated with the design team to create visually appealing and effective marketing collateral, including brochures, presentations, and social media graphics.\n",
      "\n",
      "Conducted market research to identify emerging trends, competitive landscape, and customer preferences, resulting in a 15% improvement in campaign targeting accuracy.\n",
      "\n",
      "Managed and grew the company's social media presence, resulting in a 30% increase in followers and higher engagement rates across platforms.\n",
      "\n",
      "Analyzed campaign performance using Google Analytics and marketing automation tools, providing actionable insights and recommendations for optimization.\n",
      "\n",
      "Assisted in the planning and execution of virtual events, webinars, and trade shows, leading to a 25% increase in leads generated.\n",
      "\n",
      "Collaborated with the sales team to develop sales enablement materials, contributing to a 10% increase in lead-to-conversion rates.\n",
      "\n",
      "Utilized email marketing to nurture leads and customers, resulting in a 12% increase in email open rates and a 8% increase in click-through rates.\n",
      "\n",
      "Managed relationships with external vendors and agencies, ensuring timely and cost-effective delivery of marketing projects and services.\n",
      "\n",
      "Actively participated in brainstorming sessions, contributing innovative ideas that led to the development of successful marketing strategies.\n",
      "\n",
      "Achievements:\n",
      "\n",
      "Received the \"Marketing Excellence Award\" in recognition of outstanding contributions to the company's marketing success (2021).\n",
      "\n",
      "Successfully launched a customer referral program, which led to a 40% increase in referral-generated leads within the first six months.\n",
      "\n",
      "Implemented A/B testing methodologies, resulting in a 25% improvement in the effectiveness of email subject lines and content.\n",
      "\n",
      "Skills Utilized:\n",
      "\n",
      "Marketing campaign development and execution\n",
      "\n",
      "Market research and trend analysis\n",
      "\n",
      "Social media management and content creation\n",
      "\n",
      "Data analysis and reporting\n",
      "\n",
      "Email marketing and automation\n",
      "\n",
      "Project management and collaboration\n",
      "\n",
      "Graphic design coordination\n",
      "\n",
      "Vendor and agency relationship management\n",
      "\n",
      "Through my role as a Marketing Specialist at ABC Marketing Solutions, I have demonstrated a strong ability to drive results, collaborate effectively, and adapt to the dynamic landscape of the marketing industry.\n"
     ]
    }
   ],
   "source": [
    "print(sample)"
   ]
  },
  {
   "cell_type": "code",
   "execution_count": 13,
   "id": "a78825d7",
   "metadata": {},
   "outputs": [],
   "source": [
    "content=[sample,resume]      #need to check match %age b/w these two files"
   ]
  },
  {
   "cell_type": "code",
   "execution_count": 14,
   "id": "26fdaa69",
   "metadata": {},
   "outputs": [],
   "source": [
    "from sklearn.feature_extraction.text import CountVectorizer\n",
    "cv=CountVectorizer()\n",
    "matrix=cv.fit_transform(content)"
   ]
  },
  {
   "cell_type": "code",
   "execution_count": 15,
   "id": "dcab6968",
   "metadata": {},
   "outputs": [],
   "source": [
    "from sklearn.metrics.pairwise import cosine_similarity"
   ]
  },
  {
   "cell_type": "code",
   "execution_count": 16,
   "id": "95144dfe",
   "metadata": {},
   "outputs": [],
   "source": [
    "sim=cosine_similarity(matrix)"
   ]
  },
  {
   "cell_type": "code",
   "execution_count": 17,
   "id": "b72f6e82",
   "metadata": {},
   "outputs": [
    {
     "data": {
      "text/plain": [
       "array([[1.       , 0.3897602],\n",
       "       [0.3897602, 1.       ]])"
      ]
     },
     "execution_count": 17,
     "metadata": {},
     "output_type": "execute_result"
    }
   ],
   "source": [
    "sim"
   ]
  },
  {
   "cell_type": "code",
   "execution_count": 19,
   "id": "5a352e65",
   "metadata": {},
   "outputs": [
    {
     "name": "stdout",
     "output_type": "stream",
     "text": [
      "Resume Matching by:  38.98 %\n"
     ]
    }
   ],
   "source": [
    "print(\"Resume Matching by: \",round(sim[0][1]*100,2),\"%\")"
   ]
  },
  {
   "cell_type": "code",
   "execution_count": null,
   "id": "7b1e7793",
   "metadata": {},
   "outputs": [],
   "source": []
  }
 ],
 "metadata": {
  "kernelspec": {
   "display_name": "Python 3 (ipykernel)",
   "language": "python",
   "name": "python3"
  },
  "language_info": {
   "codemirror_mode": {
    "name": "ipython",
    "version": 3
   },
   "file_extension": ".py",
   "mimetype": "text/x-python",
   "name": "python",
   "nbconvert_exporter": "python",
   "pygments_lexer": "ipython3",
   "version": "3.9.13"
  }
 },
 "nbformat": 4,
 "nbformat_minor": 5
}
